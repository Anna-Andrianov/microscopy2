{
 "cells": [
  {
   "cell_type": "markdown",
   "metadata": {},
   "source": [
    "# Instructions"
   ]
  },
  {
   "cell_type": "markdown",
   "metadata": {},
   "source": [
    "### Particle tracking with Python\n",
    "Coded by Alon Grossman 2021\n",
    "Revised by Gilad Pollack 2021\n",
    "\n",
    "This code is meant to provide a relatively painless interface for particle tracking needed for the Brownian motion experiment in\n",
    "the second year physics lab experiment.\n",
    "The notebook is made with the intent that students will not be required to type any line of code during their work\n",
    "\n",
    "Please read the instructions, even if the font is small.\n",
    "The first thing needed to make this code work is to install the necessary python packages for trackpy as described here: http://soft-matter.github.io/trackpy/dev/installation.html\n",
    "\n",
    "Some cells do not produce output. Others are quite long and scary. But you shouldn't interact with the code anyway, so don't worry about it. Just run them and move to the next ones.\n",
    "\n",
    "For this demonstration, I took the first 201 frames from the movie alon9 (now in theaters). You can find it compressed in my folder in the group drive or in the following link: https://drive.google.com/file/d/1tfrVsuDJRvzOUj6XGL3xc-5ndLTgDQRk/view?usp=sharing ."
   ]
  },
  {
   "cell_type": "markdown",
   "metadata": {},
   "source": [
    "#### Interacting with the notebook:\n",
    "Two modes: editing (green cell edges), and command mode (cyan cell edges). In this representation, you should mostly work with command mode, which allows easy navigation with the arrow keys.\n",
    "\n",
    "Press esc in edit mode to switch to command mode (or click the cell left edge). Press enter in command mode to enter edit mode (or click the code itself).\n",
    "\n",
    "To run a cell, press ctrl+enter in *command* mode. you can press shift+enter to run a cell and automatically move to the next one. You can also press the \"play\" button to the left of each cell.\n",
    "\n",
    "**warning**: do not try to code in command mode. In command mode, most keys function as keyboard shortcuts, some of them irreversible (such as the dreaded X - break cell (and a programmers heart))."
   ]
  },
  {
   "cell_type": "markdown",
   "metadata": {},
   "source": [
    "# Setup "
   ]
  },
  {
   "cell_type": "markdown",
   "metadata": {},
   "source": [
    "### importing:\n",
    "import necessary packages into the kernel: \n",
    "    (Run the following cells using Ctrl + Enter and don't think about it. If errors appear, you may need to redo the \"installing trackpy\" phase)"
   ]
  },
  {
   "cell_type": "code",
   "execution_count": null,
   "metadata": {
    "code_folding": [],
    "hide_input": false,
    "run_control": {
     "marked": false
    },
    "tags": [
     "#imports"
    ]
   },
   "outputs": [],
   "source": [
    "#imports\n",
    "from __future__ import division, unicode_literals, print_function  # for compatibility with Python 2 and 3\n",
    "from ipywidgets import widgets\n",
    "\n",
    "import matplotlib as mpl\n",
    "import matplotlib.pyplot as plt\n",
    "\n",
    "# change the following to %matplotlib notebook for interactive plotting\n",
    "%matplotlib inline \n",
    "\n",
    "# Optionally, tweak styles.\n",
    "mpl.rc('figure',  figsize=(10, 5))\n",
    "mpl.rc('image', cmap='gray')\n",
    "\n",
    "import numpy as np      #data analysis\n",
    "import pandas as pd      #arrays\n",
    "from pandas import DataFrame, Series      # for convenience\n",
    "import time \n",
    "\n",
    "#import pims      #opening images and data files\n",
    "import trackpy as tp      #the actual tracking\n",
    "#import seaborn as sb     #pretty plots \n",
    "#import cv2"
   ]
  },
  {
   "cell_type": "markdown",
   "metadata": {},
   "source": [
    "#### Setting widgets:\n",
    "**Below are 4** long, output-less **cells**.They contain mostly variable declarations and cosmetic support. Just **run them and move forward.**"
   ]
  },
  {
   "cell_type": "code",
   "execution_count": null,
   "metadata": {
    "code_folding": [],
    "hide_input": false,
    "run_control": {
     "marked": false
    },
    "tags": [
     "#date",
     "=>imports"
    ]
   },
   "outputs": [],
   "source": [
    "#Sample info\n",
    "w_date = widgets.DatePicker(disabled=False)\n",
    "w_num_of_frames = widgets.BoundedIntText(value=0, min=0, step=1)\n",
    "w_particle_size = widgets.BoundedFloatText(value=1.5, min=0, step=0.5)\n",
    "w_solvent = widgets.Combobox(\n",
    "    placeholder='Choose Solvent',\n",
    "    options=['Water', 'DMSO', 'George'],\n",
    "    #description='Solvent:',\n",
    "    ensure_option=False,\n",
    "    disabled=False)\n",
    "w_protocol = widgets.FileUpload(\n",
    "    accept=\n",
    "    '',  # Accepted file extension e.g. '.txt', '.pdf', 'image/*', 'image/*,.pdf'\n",
    "    multiple=False  # True to accept multiple files upload else False\n",
    ")\n",
    "w_descript = widgets.Textarea(\n",
    "    value='',\n",
    "    placeholder='Insert additional information about your sample',\n",
    "    layout=widgets.Layout(height=\"auto\", width=\"auto\"))\n",
    "\n",
    "info = widgets.VBox([\n",
    "    widgets.Label(\"Date of recording:\"), w_date,\n",
    "    widgets.Label(\"number of frames:\"), w_num_of_frames,\n",
    "    widgets.Label(\"particle size, in $\\mu m$:\"), w_particle_size,\n",
    "    widgets.Label(\"solvent:\"), w_solvent,\n",
    "    widgets.Label(\"Additional inforamtion:\"), w_descript,\n",
    "    widgets.Label(\"Protocol:\"), w_protocol    \n",
    "    \n",
    "])"
   ]
  },
  {
   "cell_type": "code",
   "execution_count": null,
   "metadata": {
    "code_folding": [],
    "hide_input": false,
    "run_control": {
     "marked": false
    },
    "tags": [
     "#date",
     "=>imports"
    ]
   },
   "outputs": [],
   "source": [
    "#Parameters for linking and MSD calculations\n",
    "\n",
    "w_mpp = widgets.BoundedFloatText(value=0.0058, min=0, description='mpp')\n",
    "w_fps = widgets.BoundedIntText(value=30, min=0, description='fps')\n",
    "w_window_size = widgets.BoundedIntText(value=10, min=0, description='window size')\n",
    "w_memory = widgets.BoundedIntText(value=0, min=0, description='memory')\n",
    "w_mintraj = widgets.BoundedIntText(value=10,min=0, description='min. traj. length')\n",
    "\n",
    "linking_params = widgets.VBox([w_mpp, w_fps, w_window_size, w_memory, w_mintraj])"
   ]
  },
  {
   "cell_type": "code",
   "execution_count": null,
   "metadata": {
    "code_folding": [],
    "hide_input": false,
    "run_control": {
     "marked": false
    },
    "tags": [
     "#date",
     "=>imports"
    ]
   },
   "outputs": [],
   "source": [
    "# Feature finding advanced parameters (not necessary to update every time, default is good)\n",
    "\n",
    "w_preprocess = widgets.Checkbox(value=True,\n",
    "                              description='Preprocess',\n",
    "                              disabled=False,\n",
    "                              indent=False)\n",
    "w_characterize = widgets.Checkbox(value=True,\n",
    "                                description='Characterize extras',\n",
    "                                disabled=False,\n",
    "                                indent=False)\n",
    "w_parallelization = widgets.Checkbox(value=True,\n",
    "                                   description='Parallelize feature-finding',\n",
    "                                   disabled=False,\n",
    "                                   indent=False)\n",
    "w_quiet = widgets.Checkbox(value=False,\n",
    "                         description='Quiet mid-outputs',\n",
    "                         disabled=False,\n",
    "                         indent=False)\n",
    "\n",
    "advanced_linking = widgets.VBox([w_preprocess, w_characterize, w_parallelization, w_quiet])"
   ]
  },
  {
   "cell_type": "code",
   "execution_count": null,
   "metadata": {
    "code_folding": [],
    "hide_input": false,
    "run_control": {
     "marked": false
    },
    "scrolled": true,
    "tags": [
     "#date",
     "=>imports"
    ]
   },
   "outputs": [],
   "source": [
    "#Combining to one widget:\n",
    "info_list= [info, linking_params, advanced_linking]\n",
    "\n",
    "accordion = widgets.Accordion(info_list)\n",
    "accordion.set_title(0, 'Sample information')\n",
    "accordion.set_title(1, 'linking parameters')\n",
    "accordion.set_title(2, 'advanced settings')"
   ]
  },
  {
   "cell_type": "markdown",
   "metadata": {},
   "source": [
    "## Set Experiment Data:"
   ]
  },
  {
   "cell_type": "markdown",
   "metadata": {},
   "source": [
    "**You don't actually need to write anything in here**, but it's available if you want to \n",
    "It's supposed to be a matter of convenience in documenting the details of the experiment that will be saved when you save this notebook"
   ]
  },
  {
   "cell_type": "code",
   "execution_count": null,
   "metadata": {
    "scrolled": false
   },
   "outputs": [],
   "source": [
    "accordion"
   ]
  },
  {
   "cell_type": "markdown",
   "metadata": {},
   "source": [
    "### Video file:"
   ]
  },
  {
   "cell_type": "markdown",
   "metadata": {},
   "source": [
    "#### insert the video file path in the following function:"
   ]
  },
  {
   "cell_type": "code",
   "execution_count": null,
   "metadata": {},
   "outputs": [],
   "source": [
    "import os\n",
    "from pathlib import Path\n",
    "filepath = 'C:\\\\Users\\\\Owner\\\\Documents\\\\Gilad\\\\1.5 micron 20 fps\\\\2.avi'\n",
    "fileDir = os.path.dirname(filepath)\n",
    "\n",
    "filename = Path(filepath).stem"
   ]
  },
  {
   "cell_type": "code",
   "execution_count": null,
   "metadata": {
    "run_control": {
     "marked": false
    },
    "scrolled": true
   },
   "outputs": [],
   "source": [
    "import fabio\n",
    "import pims\n",
    "import numpy as np\n",
    "import cv2 as cv\n",
    "import tifffile\n",
    "from skimage import io\n",
    "import fabio\n",
    "\n",
    "cap = cv.VideoCapture(filepath)\n",
    "success, frame = cap.read()\n",
    "gray = cv.cvtColor(frame, cv.COLOR_BGR2GRAY)\n",
    "frame_count = int(cap.get(cv.CAP_PROP_FRAME_COUNT))\n",
    "width=int(cap.get(3))\n",
    "length=int(cap.get(4))\n",
    "\n",
    "\n",
    "frames = np.zeros((frame_count, length, width), 'uint8')  \n",
    "i = 0;\n",
    "\n",
    "for i in range(frame_count):\n",
    "    gray = cv.cvtColor(frame, cv.COLOR_BGR2GRAY)\n",
    "    frames[i][:,:] = gray[0:length,0:width]\n",
    "    success, frame = cap.read()\n",
    "\n",
    "cap.release()"
   ]
  },
  {
   "cell_type": "markdown",
   "metadata": {},
   "source": [
    "#### Open a frame:"
   ]
  },
  {
   "cell_type": "code",
   "execution_count": null,
   "metadata": {},
   "outputs": [],
   "source": [
    "w_frame=widgets.BoundedIntText(value=0, min=0, max=len(frames)-1, description='frame', continuous_update=False)\n",
    "emptyCenters = pd.DataFrame(columns = [\"x\",\"y\"])\n",
    "func=lambda i: tp.annotate(emptyCenters,frames[i])\n",
    "\n",
    "frame_view=widgets.interact(func, i=w_frame)"
   ]
  },
  {
   "cell_type": "markdown",
   "metadata": {},
   "source": [
    "# "
   ]
  },
  {
   "cell_type": "markdown",
   "metadata": {},
   "source": [
    "# Analysis"
   ]
  },
  {
   "cell_type": "markdown",
   "metadata": {},
   "source": [
    "## Determine Initial Parameters"
   ]
  },
  {
   "cell_type": "markdown",
   "metadata": {},
   "source": [
    "### Mass (integration over intensity) distribution in the chosen frame:\n",
    "The low value columns represent the background level brightness. The minmass (which will be set later) should be set greater than these values."
   ]
  },
  {
   "cell_type": "markdown",
   "metadata": {},
   "source": [
    "### Parameters for feature finding:"
   ]
  },
  {
   "cell_type": "markdown",
   "metadata": {},
   "source": [
    "#### Supporting function and widgets setup:"
   ]
  },
  {
   "cell_type": "code",
   "execution_count": null,
   "metadata": {
    "hide_input": true,
    "run_control": {
     "marked": false
    }
   },
   "outputs": [],
   "source": [
    "#Supporting function\n",
    "def s_annotate(s_diameter, s_minmass, s_threshold, s_markersize):\n",
    "    pos = tp.locate(pims.as_grey(frames[0]),\n",
    "                    diameter=s_diameter,\n",
    "                    minmass=s_minmass,\n",
    "                    threshold=s_threshold,\n",
    "                    percentile=0,\n",
    "                    separation=s_diameter + 2)\n",
    "    pic = tp.annotate(pos, frames[0], plot_style={'markersize': s_markersize})\n",
    "    return pic"
   ]
  },
  {
   "cell_type": "code",
   "execution_count": null,
   "metadata": {
    "code_folding": [],
    "run_control": {
     "marked": false
    },
    "scrolled": false
   },
   "outputs": [],
   "source": [
    "#interactive\n",
    "\n",
    "#scaleable parameters\n",
    "s_diameter = widgets.IntSlider(19, 1, 51, 2)\n",
    "s_minmass = widgets.IntSlider(1000, 1, 5000, 1, continuous_update=False)\n",
    "s_threshold = widgets.IntSlider(1, 1, 100, 1, continuous_update=False)\n",
    "s_markersize = widgets.IntSlider(18, 0, 40, continuous_update=False)\n",
    "\n",
    "#set user interface\n",
    "ui = widgets.VBox([\n",
    "    widgets.Label(value=\"diameter\"), s_diameter,\n",
    "    widgets.Label(value=\"minmass\"), s_minmass,\n",
    "    widgets.Label(value=\"threshold\"), s_threshold,\n",
    "    widgets.Label(value=\"markersize\"), s_markersize\n",
    "])\n",
    "\n",
    "out = widgets.interactive_output(\n",
    "    s_annotate, {\n",
    "        's_diameter': s_diameter,\n",
    "        's_minmass': s_minmass,\n",
    "        's_threshold': s_threshold,\n",
    "        's_markersize': s_markersize\n",
    "    })\n",
    "\n"
   ]
  },
  {
   "cell_type": "code",
   "execution_count": null,
   "metadata": {
    "run_control": {
     "marked": false
    }
   },
   "outputs": [],
   "source": [
    "checkedFrame=tp.locate(frames[w_frame.value],21)\n",
    "\n",
    "fig, ax = plt.subplots()\n",
    "ax.hist(checkedFrame['mass'], bins=20)\n",
    " \n",
    "ax.set(xlabel='mass', ylabel='count') #Label the axes "
   ]
  },
  {
   "cell_type": "markdown",
   "metadata": {},
   "source": [
    "#### Setting the parameters:\n",
    "*Threshold is best left at 1. minmass is easier to adjust.*"
   ]
  },
  {
   "cell_type": "markdown",
   "metadata": {},
   "source": [
    "<div class=\"mark\">\n",
    "add option to choose the frame</div><i class=\"fa fa-lightbulb-o \"></i>"
   ]
  },
  {
   "cell_type": "code",
   "execution_count": null,
   "metadata": {
    "scrolled": false
   },
   "outputs": [],
   "source": [
    "display(ui, out)"
   ]
  },
  {
   "cell_type": "markdown",
   "metadata": {},
   "source": [
    "### Save the parameters:\n",
    "Save the parameters set in the previous cell, with few (constant) others.\n",
    "\n",
    "\n",
    "Please make sure that the cell above indeed displays the parameters you chose (as re-running it will erase your selection)."
   ]
  },
  {
   "cell_type": "code",
   "execution_count": null,
   "metadata": {
    "code_folding": [],
    "hide_input": false,
    "run_control": {
     "marked": false
    },
    "scrolled": true
   },
   "outputs": [],
   "source": [
    "#most important: diameter\n",
    "diameter=s_diameter.value\n",
    "\n",
    "#parameters:\n",
    "params = {\n",
    "    'diameter': diameter,\n",
    "    'minmass': s_minmass.value,\n",
    "    'maxsize': None,\n",
    "    'separation': diameter+2,    #default is +1, should be +2 (according to Yael)\n",
    "    'noise_size': 1,\n",
    "    'smoothing_size': diameter,   # boxcar (rolling average) smoothing, in pixels. Default is diameter\n",
    "    'threshold': s_threshold.value, #1/255,             #By default, 1 for integer images and 1/255 for float images.\n",
    "    'invert': False,  \n",
    "    'percentile': 0, #64,          #Yael recommends to leave this alone.\n",
    "    'topn': None,\n",
    "    'preprocess': w_preprocess.value,\n",
    "    'max_iterations': 10,\n",
    "    'filter_before': None,\n",
    "    'filter_after': None,\n",
    "    'characterize': w_characterize.value,\n",
    "    'engine': 'auto'\n",
    "}\n",
    "\n",
    "if w_parallelization.value==True:\n",
    "    paralel='auto'\n",
    "else :\n",
    "    paralel=1\n",
    "    \n",
    "tp.quiet(w_quiet.value)"
   ]
  },
  {
   "cell_type": "markdown",
   "metadata": {},
   "source": [
    "### Check everything works:\n",
    "Analyze a frame with the chosen parameters:"
   ]
  },
  {
   "cell_type": "code",
   "execution_count": null,
   "metadata": {},
   "outputs": [],
   "source": [
    "#%%time \n",
    "w_annotate = lambda i: tp.annotate(tp.locate(frames[i], **params),\n",
    "                                   frames[i],\n",
    "                                   plot_style={'markersize': s_markersize.value})\n",
    "\n",
    "widgets.interact(w_annotate, i=w_frame)\n"
   ]
  },
  {
   "cell_type": "markdown",
   "metadata": {},
   "source": [
    "## Analyze all frames\n"
   ]
  },
  {
   "cell_type": "code",
   "execution_count": null,
   "metadata": {
    "hide_input": false,
    "run_control": {
     "marked": false
    }
   },
   "outputs": [],
   "source": [
    "%%time\n",
    "detectedParticles = tp.batch(frames,**params)"
   ]
  },
  {
   "cell_type": "markdown",
   "metadata": {},
   "source": [
    "### Save/load initial particle detection results\n",
    "The following two boxes allow saving to excel and loading results from an existing excel"
   ]
  },
  {
   "cell_type": "code",
   "execution_count": null,
   "metadata": {},
   "outputs": [],
   "source": [
    "detectedParticles.to_excel(fileDir + '\\\\' + filename + '_detection.xlsx')"
   ]
  },
  {
   "cell_type": "code",
   "execution_count": null,
   "metadata": {},
   "outputs": [],
   "source": [
    "detectedParticles = pd.read_excel(fileDir + '\\\\' + filename + '_detection.xlsx')"
   ]
  },
  {
   "cell_type": "markdown",
   "metadata": {},
   "source": [
    "### Compute subpixel error:\n",
    "*Of the whole movie"
   ]
  },
  {
   "cell_type": "code",
   "execution_count": null,
   "metadata": {},
   "outputs": [],
   "source": [
    "[[ax1,ax2]] = tp.subpx_bias(detectedParticles)\n",
    "ax1.set_xlabel(\"pixels\")\n",
    "ax1.set_ylabel(\"counts\")\n",
    "ax2.set_xlabel(\"pixels\")\n",
    "ax2.set_ylabel(\"counts\")"
   ]
  },
  {
   "cell_type": "markdown",
   "metadata": {},
   "source": [
    "## Calculate Trajectories\n",
    "and filter short paths and/or blurry particles"
   ]
  },
  {
   "cell_type": "markdown",
   "metadata": {},
   "source": [
    "### The linking parameters:\n",
    "Were set earlier. Can be changed now, of course."
   ]
  },
  {
   "cell_type": "code",
   "execution_count": null,
   "metadata": {},
   "outputs": [],
   "source": [
    "display(w_window_size, w_memory)"
   ]
  },
  {
   "cell_type": "markdown",
   "metadata": {},
   "source": [
    "### Perform linking:"
   ]
  },
  {
   "cell_type": "markdown",
   "metadata": {},
   "source": [
    "<div class=\"mark\">\n",
    "generate immediate response + add  from frame to frame</div><i class=\"fa fa-lightbulb-o \"></i>"
   ]
  },
  {
   "cell_type": "code",
   "execution_count": null,
   "metadata": {},
   "outputs": [],
   "source": [
    "track = tp.link(detectedParticles, search_range=w_window_size.value, memory=w_memory.value)\n",
    "print('A total of ', track['particle'].nunique(), 'different particles were found.')"
   ]
  },
  {
   "cell_type": "markdown",
   "metadata": {},
   "source": [
    "### Save/load initial Trajectories"
   ]
  },
  {
   "cell_type": "code",
   "execution_count": null,
   "metadata": {},
   "outputs": [],
   "source": [
    "track.to_excel(fileDir + '\\\\' + filename + '_track_unfiltered.xlsx')"
   ]
  },
  {
   "cell_type": "code",
   "execution_count": null,
   "metadata": {},
   "outputs": [],
   "source": [
    "track = pd.read_excel(fileDir + '\\\\' + filename + '_track_unfiltered.xlsx')"
   ]
  },
  {
   "cell_type": "markdown",
   "metadata": {},
   "source": [
    "### Filter short trajectories"
   ]
  },
  {
   "cell_type": "markdown",
   "metadata": {},
   "source": [
    "#### Minimum trajectory length:"
   ]
  },
  {
   "cell_type": "code",
   "execution_count": null,
   "metadata": {},
   "outputs": [],
   "source": [
    "display(w_mintraj)"
   ]
  },
  {
   "cell_type": "markdown",
   "metadata": {},
   "source": [
    "#### Filter:"
   ]
  },
  {
   "cell_type": "code",
   "execution_count": null,
   "metadata": {},
   "outputs": [],
   "source": [
    "trackShortFiltered = tp.filter_stubs(track, w_mintraj.value )  #filter out short trajectories\n",
    "print('Before:', track['particle'].nunique())\n",
    "print('After:', trackShortFiltered['particle'].nunique())"
   ]
  },
  {
   "cell_type": "markdown",
   "metadata": {},
   "source": [
    "#### mass vs. size plot:"
   ]
  },
  {
   "cell_type": "code",
   "execution_count": null,
   "metadata": {},
   "outputs": [],
   "source": [
    "plt.figure()\n",
    "groupTable = trackShortFiltered.groupby('particle').mean()\n",
    "tp.mass_size(trackShortFiltered.groupby('particle').mean()); # convenience function -- just plots size vs. mass"
   ]
  },
  {
   "cell_type": "markdown",
   "metadata": {},
   "source": [
    "One might want to filter particles that are too weak, too large or not round enough, using the following code lines:"
   ]
  },
  {
   "cell_type": "markdown",
   "metadata": {},
   "source": [
    "### Filter spurious particles:"
   ]
  },
  {
   "cell_type": "code",
   "execution_count": null,
   "metadata": {
    "code_folding": [
     0
    ]
   },
   "outputs": [],
   "source": [
    "#widget setting\n",
    "w_m_mass=widgets.BoundedIntText(value=500, min=0, max=10000, description='traj. minmass')\n",
    "w_m_size=widgets.BoundedFloatText(value=6, min=0, description='traj. maxsize')\n",
    "w_m_ecc=widgets.BoundedFloatText(value=0.3, min=0, step=0.1, description='traj. max eccentricity')\n",
    "\n",
    "filtering_params = widgets.VBox([w_m_mass, w_m_size, w_m_ecc])"
   ]
  },
  {
   "cell_type": "markdown",
   "metadata": {},
   "source": [
    "#### Set filtration parameters:"
   ]
  },
  {
   "cell_type": "code",
   "execution_count": null,
   "metadata": {},
   "outputs": [],
   "source": [
    "filtering_params"
   ]
  },
  {
   "cell_type": "code",
   "execution_count": null,
   "metadata": {},
   "outputs": [],
   "source": [
    "rowsToFilter = groupTable[((groupTable['mass'] <  w_m_mass.value) | (groupTable['size'] > w_m_size.value) | (groupTable['ecc'] > w_m_ecc.value))]\n",
    "prtToFilter = rowsToFilter.index\n",
    "finalTrack = trackShortFiltered.loc[~trackShortFiltered['particle'].isin(prtToFilter)]\n",
    "\n",
    "print('Initial:', track['particle'].nunique())\n",
    "print('After first filter:', trackShortFiltered['particle'].nunique())\n",
    "print('After second filter:', finalTrack['particle'].nunique())\n"
   ]
  },
  {
   "cell_type": "markdown",
   "metadata": {},
   "source": [
    "### Save/load final trajectories after filtering\n"
   ]
  },
  {
   "cell_type": "code",
   "execution_count": null,
   "metadata": {},
   "outputs": [],
   "source": [
    "finalTrack.to_excel(fileDir + '\\\\' + filename + '_final_track.xlsx')"
   ]
  },
  {
   "cell_type": "code",
   "execution_count": null,
   "metadata": {},
   "outputs": [],
   "source": [
    "finalTrack = pd.read_excel(fileDir + '\\\\' + filename + '_final_track.xlsx')"
   ]
  },
  {
   "cell_type": "markdown",
   "metadata": {},
   "source": [
    "## Plot trajectories and drift"
   ]
  },
  {
   "cell_type": "markdown",
   "metadata": {},
   "source": [
    "### Plot trajectories:"
   ]
  },
  {
   "cell_type": "markdown",
   "metadata": {},
   "source": [
    "measure time "
   ]
  },
  {
   "cell_type": "code",
   "execution_count": null,
   "metadata": {},
   "outputs": [],
   "source": [
    "plt.figure()\n",
    "x=tp.plot_traj(finalTrack);\n",
    "\n",
    "#fig = x.get_figure()\n",
    "#fig.savefig(\"{0}/traj{1}.jpeg\".format(res_loc,num))"
   ]
  },
  {
   "cell_type": "markdown",
   "metadata": {},
   "source": [
    "### Compute and plot Drift:\n",
    "Drift substraction is possible, but recommended to be left unused."
   ]
  },
  {
   "cell_type": "code",
   "execution_count": null,
   "metadata": {},
   "outputs": [],
   "source": [
    "d = tp.compute_drift(finalTrack)\n",
    "d.plot()\n",
    "plt.show()\n",
    "\n",
    "#tm = tp.subtract_drift(t2.copy(), d)\n",
    "tm=finalTrack"
   ]
  },
  {
   "cell_type": "markdown",
   "metadata": {},
   "source": [
    "## Plots!"
   ]
  },
  {
   "cell_type": "markdown",
   "metadata": {},
   "source": [
    "#### Convertion ratio between microns and pixels (mpp) and the filming frame rate (fps):"
   ]
  },
  {
   "cell_type": "code",
   "execution_count": null,
   "metadata": {
    "scrolled": false
   },
   "outputs": [],
   "source": [
    "display(w_mpp, w_fps)"
   ]
  },
  {
   "cell_type": "markdown",
   "metadata": {},
   "source": [
    "### Time Average MSD:"
   ]
  },
  {
   "cell_type": "code",
   "execution_count": null,
   "metadata": {
    "code_folding": [],
    "run_control": {
     "marked": false
    }
   },
   "outputs": [],
   "source": [
    "im = tp.imsd(tm, w_mpp.value,\n",
    "             w_fps.value)  \n",
    "\n",
    "fig, ax = plt.subplots()\n",
    "ax.plot(im.index, im, 'k-', alpha=0.1)  # black lines, semitransparent\n",
    "ax.set(ylabel=r'$\\langle \\Delta r^2 \\rangle$ [$\\mu$m$^2$]',\n",
    "       xlabel='lag time $t$ (sec)')\n",
    "ax.set_xscale('log')\n",
    "ax.set_yscale('log')\n"
   ]
  },
  {
   "cell_type": "markdown",
   "metadata": {},
   "source": [
    "### Time and Ensamble Average MSD:"
   ]
  },
  {
   "cell_type": "code",
   "execution_count": null,
   "metadata": {
    "run_control": {
     "marked": false
    }
   },
   "outputs": [],
   "source": [
    "em = tp.emsd(tm, w_mpp.value,\n",
    "             w_fps.value)  # microns per pixel = 100/285., frames per second = 24\n",
    "\n",
    "fig, ax = plt.subplots()\n",
    "ax.plot(em.index, em, 'o')\n",
    "ax.set_xscale('log')\n",
    "ax.set_yscale('log')\n",
    "ax.set(ylabel=r'$\\langle \\Delta r^2 \\rangle$ [$\\mu$m$^2$]',\n",
    "       xlabel='lag time $t$ (sec)')\n",
    "ax.set(ylim=(1e-4, 200))"
   ]
  },
  {
   "cell_type": "markdown",
   "metadata": {},
   "source": [
    "### Fit to Linear Plot:\n",
    "And get diffusion coefs"
   ]
  },
  {
   "cell_type": "code",
   "execution_count": null,
   "metadata": {
    "run_control": {
     "marked": false
    }
   },
   "outputs": [],
   "source": [
    "plt.figure()\n",
    "plt.ylabel(r'$\\langle \\Delta r^2 \\rangle$ [$\\mu$m$^2$]')\n",
    "plt.xlabel('lag time $t$ (sec)')\n",
    "ft=tp.utils.fit_powerlaw(em)  # performs linear best fit in log space, plots]\n",
    "display(ft)"
   ]
  },
  {
   "cell_type": "code",
   "execution_count": null,
   "metadata": {},
   "outputs": [],
   "source": [
    "D=ft['A']/4\n",
    "D = \"{:.7f}\".format(float(D))\n",
    "print('D:', D, 'Micrometers^2 / sec')"
   ]
  }
 ],
 "metadata": {
  "hide_input": false,
  "kernelspec": {
   "display_name": "Python 3",
   "language": "python",
   "name": "python3"
  },
  "language_info": {
   "codemirror_mode": {
    "name": "ipython",
    "version": 3
   },
   "file_extension": ".py",
   "mimetype": "text/x-python",
   "name": "python",
   "nbconvert_exporter": "python",
   "pygments_lexer": "ipython3",
   "version": "3.8.5"
  },
  "varInspector": {
   "cols": {
    "lenName": 16,
    "lenType": 16,
    "lenVar": 40
   },
   "kernels_config": {
    "python": {
     "delete_cmd_postfix": "",
     "delete_cmd_prefix": "del ",
     "library": "var_list.py",
     "varRefreshCmd": "print(var_dic_list())"
    },
    "r": {
     "delete_cmd_postfix": ") ",
     "delete_cmd_prefix": "rm(",
     "library": "var_list.r",
     "varRefreshCmd": "cat(var_dic_list()) "
    }
   },
   "types_to_exclude": [
    "module",
    "function",
    "builtin_function_or_method",
    "instance",
    "_Feature"
   ],
   "window_display": false
  }
 },
 "nbformat": 4,
 "nbformat_minor": 4
}
